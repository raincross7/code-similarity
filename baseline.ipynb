{
 "cells": [
  {
   "cell_type": "code",
   "execution_count": 1,
   "id": "d4ebfd0a-04d8-4661-a5ab-eca29a5f86cf",
   "metadata": {},
   "outputs": [],
   "source": [
    "import numpy as np\n",
    "import pandas as pd\n",
    "import glob\n",
    "from tqdm import tqdm\n",
    "from sklearn.feature_extraction.text import CountVectorizer\n",
    "from sklearn.metrics.pairwise import cosine_similarity"
   ]
  },
  {
   "cell_type": "code",
   "execution_count": 2,
   "id": "1a838ea8-feee-4277-84ff-53d6bc8a2f62",
   "metadata": {},
   "outputs": [],
   "source": [
    "val = pd.read_csv('codes/sample_train.csv')\n",
    "test = pd.read_csv('codes/test.csv')"
   ]
  },
  {
   "cell_type": "code",
   "execution_count": 3,
   "id": "8cb041b8-e1ef-42ea-a1dd-3404181d1a77",
   "metadata": {},
   "outputs": [],
   "source": [
    "class BaselineModel():\n",
    "    def __init__(self, threshold=0.5):\n",
    "        super(BaselineModel, self).__init__()\n",
    "        self.threshold = threshold\n",
    "        self.vocabulary = set()\n",
    "\n",
    "    def get_vectorizer(self):\n",
    "        return CountVectorizer(vocabulary=list(self.vocabulary))\n",
    "\n",
    "    def fit(self, code):\n",
    "        temp_vectorizer = CountVectorizer()\n",
    "        temp_vectorizer.fit(code)\n",
    "        self.vocabulary.update(temp_vectorizer.get_feature_names_out())\n",
    "        self.vectorizer = self.get_vectorizer()\n",
    "\n",
    "    def predict_proba(self, code1, code2):\n",
    "        code1_vecs = self.vectorizer.transform(code1)\n",
    "        code2_vecs = self.vectorizer.transform(code2)\n",
    "\n",
    "        preds = []\n",
    "        for code1_vec,code2_vec in tqdm(zip(code1_vecs,code2_vecs)):\n",
    "            preds.append(cosine_similarity(code1_vec, code2_vec))\n",
    "        preds = np.reshape(preds, len(preds))\n",
    "        print('Done')\n",
    "\n",
    "        return preds\n",
    "\n",
    "    def predict(self, code1, code2):\n",
    "        preds = self.predict_proba(code1, code2)\n",
    "        preds = np.where(preds>self.threshold, 1, 0)\n",
    "\n",
    "        return preds"
   ]
  },
  {
   "cell_type": "code",
   "execution_count": 4,
   "id": "fa0193cb-63e7-4b36-a498-b1d9e2c7023a",
   "metadata": {},
   "outputs": [],
   "source": [
    "train_code_paths = glob.glob('codes/train_code/*/*.cpp')"
   ]
  },
  {
   "cell_type": "code",
   "execution_count": 5,
   "id": "4b76f287-a216-4170-a23d-273d41004612",
   "metadata": {
    "scrolled": true
   },
   "outputs": [],
   "source": [
    "def read_cpp_code(file_path):\n",
    "    with open(file_path, 'r', encoding='utf-8') as file:\n",
    "        return file.read()"
   ]
  },
  {
   "cell_type": "code",
   "execution_count": 6,
   "id": "e61f2db8-d574-4115-a22b-688deb1567a9",
   "metadata": {},
   "outputs": [],
   "source": [
    "model = BaselineModel(threshold=0.5)"
   ]
  },
  {
   "cell_type": "code",
   "execution_count": 7,
   "id": "eb04a2b4-dedb-4912-ab1a-f147a17e0267",
   "metadata": {},
   "outputs": [
    {
     "name": "stderr",
     "output_type": "stream",
     "text": [
      "100%|█████████████████████████████████████████████████████████████████████████| 250000/250000 [35:01<00:00, 118.98it/s]\n"
     ]
    }
   ],
   "source": [
    "for path in tqdm(train_code_paths):\n",
    "    code = read_cpp_code(path)\n",
    "    model.fit([code])"
   ]
  },
  {
   "cell_type": "code",
   "execution_count": 8,
   "id": "a5d0c23e-977c-469c-a257-cc44ac384792",
   "metadata": {},
   "outputs": [
    {
     "data": {
      "text/plain": [
       "113727"
      ]
     },
     "execution_count": 8,
     "metadata": {},
     "output_type": "execute_result"
    }
   ],
   "source": [
    "len(model.vocabulary)"
   ]
  },
  {
   "cell_type": "code",
   "execution_count": 9,
   "id": "2788cb66-de32-4d8d-91d8-dc3e8fed501d",
   "metadata": {},
   "outputs": [],
   "source": [
    "def get_accuracy(gt, preds):\n",
    "    return (gt==preds).mean()"
   ]
  },
  {
   "cell_type": "code",
   "execution_count": 10,
   "id": "2deba8db-1782-4506-87c9-f7d312fb84ec",
   "metadata": {},
   "outputs": [
    {
     "name": "stderr",
     "output_type": "stream",
     "text": [
      "20000it [00:16, 1202.83it/s]"
     ]
    },
    {
     "name": "stdout",
     "output_type": "stream",
     "text": [
      "Done\n"
     ]
    },
    {
     "name": "stderr",
     "output_type": "stream",
     "text": [
      "\n"
     ]
    }
   ],
   "source": [
    "val_preds = model.predict(val['code1'], val['code2'])"
   ]
  },
  {
   "cell_type": "code",
   "execution_count": 11,
   "id": "d763afa0-4f06-408d-9d7f-527be8814d22",
   "metadata": {},
   "outputs": [
    {
     "name": "stdout",
     "output_type": "stream",
     "text": [
      "0.60125\n"
     ]
    }
   ],
   "source": [
    "print(get_accuracy(val['similar'].values, val_preds))"
   ]
  },
  {
   "cell_type": "code",
   "execution_count": 12,
   "id": "f8f0e778-4720-4b3a-be24-1775d6f1d549",
   "metadata": {},
   "outputs": [
    {
     "name": "stderr",
     "output_type": "stream",
     "text": [
      "595000it [08:37, 1150.31it/s]\n"
     ]
    },
    {
     "name": "stdout",
     "output_type": "stream",
     "text": [
      "Done\n"
     ]
    }
   ],
   "source": [
    "preds = model.predict(test['code1'], test['code2'])"
   ]
  },
  {
   "cell_type": "code",
   "execution_count": null,
   "id": "82a5844a-04b2-417a-9418-570ec8d3b177",
   "metadata": {},
   "outputs": [],
   "source": []
  }
 ],
 "metadata": {
  "kernelspec": {
   "display_name": "Python 3 (ipykernel)",
   "language": "python",
   "name": "python3"
  },
  "language_info": {
   "codemirror_mode": {
    "name": "ipython",
    "version": 3
   },
   "file_extension": ".py",
   "mimetype": "text/x-python",
   "name": "python",
   "nbconvert_exporter": "python",
   "pygments_lexer": "ipython3",
   "version": "3.10.13"
  }
 },
 "nbformat": 4,
 "nbformat_minor": 5
}
